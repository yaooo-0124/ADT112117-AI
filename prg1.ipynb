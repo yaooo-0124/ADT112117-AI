{
 "cells": [
  {
   "cell_type": "code",
   "execution_count": 9,
   "id": "06f65f03-47c4-467c-b498-bf3fd7e40ca5",
   "metadata": {},
   "outputs": [
    {
     "name": "stdin",
     "output_type": "stream",
     "text": [
      "請輸入正整數: 100\n"
     ]
    }
   ],
   "source": [
    "sum = 0\n",
    "n = int (input(\"請輸入正整數:\"))"
   ]
  },
  {
   "cell_type": "code",
   "execution_count": 10,
   "id": "ebf2c27b-b2ce-406b-bbc6-40ab62efcdac",
   "metadata": {},
   "outputs": [],
   "source": [
    "for i in range( 1, n+1):\n",
    "    sum += i"
   ]
  },
  {
   "cell_type": "code",
   "execution_count": 11,
   "id": "82ad6fb2-d53c-4a1b-b51a-e864cc2c37b9",
   "metadata": {},
   "outputs": [
    {
     "name": "stdout",
     "output_type": "stream",
     "text": [
      " 1到 100 的整數和為 5050\n"
     ]
    }
   ],
   "source": [
    "print(\" 1到 %d 的整數和為 %d\" % (n, sum))"
   ]
  }
 ],
 "metadata": {
  "kernelspec": {
   "display_name": "Python [conda env:py37]",
   "language": "python",
   "name": "conda-env-py37-py"
  },
  "language_info": {
   "codemirror_mode": {
    "name": "ipython",
    "version": 3
   },
   "file_extension": ".py",
   "mimetype": "text/x-python",
   "name": "python",
   "nbconvert_exporter": "python",
   "pygments_lexer": "ipython3",
   "version": "3.7.16"
  }
 },
 "nbformat": 4,
 "nbformat_minor": 5
}
